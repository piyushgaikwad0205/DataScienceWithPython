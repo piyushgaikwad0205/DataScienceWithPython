{
 "cells": [
  {
   "cell_type": "markdown",
   "id": "561ce79c-8c09-4677-82a5-b4eb633bdd0b",
   "metadata": {},
   "source": [
    "# This is Day-2 of the Workshop \n",
    "\n",
    "> ## Learning Path\n",
    "> Anaconda Navigator\n",
    ">> <li>Installtion</li>\n",
    ">> <li>Set up Jupyter Note Book</li>\n",
    ">\n",
    "> Libary Funcition\n",
    ">> <li>Import Keyword</li>\n",
    ">> <li>What is Numpy?</li>\n",
    ">> <li>as keyword in python </li>\n",
    ">> <li>form keyword in python</li>\n",
    ">\n",
    ">\n",
    "> Statical Calculation \n",
    ">> <li>Mean</li>\n",
    ">> <li>Median</li>\n",
    ">> <li>Mode</li>\n",
    ">\n",
    "> ### End of Day 2"
   ]
  },
  {
   "cell_type": "code",
   "execution_count": 2,
   "id": "9fec1f88-9282-432c-96b1-2376431de216",
   "metadata": {},
   "outputs": [],
   "source": [
    "import numpy as np\n",
    "import pandas as pd\n",
    "import statistics as stat"
   ]
  },
  {
   "cell_type": "code",
   "execution_count": 7,
   "id": "e314accf-9bc5-4e98-ae84-e045c1fea84b",
   "metadata": {},
   "outputs": [
    {
     "name": "stdout",
     "output_type": "stream",
     "text": [
      "5.6\n",
      "3\n",
      "1\n"
     ]
    }
   ],
   "source": [
    "a = [1,2,3,4,18]\n",
    "print(stat.mean(a))\n",
    "print(stat.median(a))\n",
    "print(stat.mode(a))"
   ]
  }
 ],
 "metadata": {
  "kernelspec": {
   "display_name": "Python 3",
   "language": "python",
   "name": "python3"
  },
  "language_info": {
   "codemirror_mode": {
    "name": "ipython",
    "version": 3
   },
   "file_extension": ".py",
   "mimetype": "text/x-python",
   "name": "python",
   "nbconvert_exporter": "python",
   "pygments_lexer": "ipython3",
   "version": "3.13.0"
  },
  "widgets": {
   "application/vnd.jupyter.widget-state+json": {
    "state": {},
    "version_major": 2,
    "version_minor": 0
   }
  }
 },
 "nbformat": 4,
 "nbformat_minor": 5
}
